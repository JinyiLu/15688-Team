{
 "cells": [
  {
   "cell_type": "markdown",
   "metadata": {
    "collapsed": true
   },
   "source": [
    "## Data Set\n",
    "* What's IMDb\n",
    "* Data preprocessing\n",
    "\n",
    "## Analysis\n",
    "* Rating sparsity (compare with MovieLen)\n",
    "* Rating cnt / review cnt\n",
    "* Rating vs rating cnt\n",
    "* Rating vs user cnt\n",
    "* (Review/Movie) rating vs movie cnt\n",
    "* Location vs user cnt\n",
    "* Location vs movie cnt\n",
    "* TOP\n",
    "    * TOP rating/review cnt movie\n",
    "    * TOP movie/review rating movie (vote threshold)\n",
    "        * Movie title, trailers, runtime, credits, cover\n",
    "    * TOP review cnt user\n",
    "* Post date vs movie cnt\n",
    "* Post date vs avg runtime\n",
    "* Genre vs movie cnt\n",
    "* Genre vs vote, movie rating\n",
    "* Genre vs avg runtime\n",
    "\n",
    "* Agree and disagree\n",
    "\n",
    "## Recommendation System\n",
    "* Sparsity -> traidional methods may not work\n",
    "* Potentional solutions"
   ]
  },
  {
   "cell_type": "code",
   "execution_count": null,
   "metadata": {
    "collapsed": true
   },
   "outputs": [],
   "source": []
  }
 ],
 "metadata": {
  "kernelspec": {
   "display_name": "Python 2",
   "language": "python",
   "name": "python2"
  },
  "language_info": {
   "codemirror_mode": {
    "name": "ipython",
    "version": 2
   },
   "file_extension": ".py",
   "mimetype": "text/x-python",
   "name": "python",
   "nbconvert_exporter": "python",
   "pygments_lexer": "ipython2",
   "version": "2.7.12"
  }
 },
 "nbformat": 4,
 "nbformat_minor": 0
}
