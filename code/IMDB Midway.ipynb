{
 "cells": [
  {
   "cell_type": "markdown",
   "metadata": {},
   "source": [
    "## 1. Intro\n",
    "\n",
    "### 1.1 Data Set\n",
    "In this project, we are working on the IMDb movie reviews which is collected from the IMDb website http://www.imdb.com/. \n",
    "\n",
    "The Internet Movie Database (IMDb) is an online database of information related to films, television programs and video games, including cast, production crew, fictional characters, biographies, plot summaries, trivia and reviews. It's launched in 1990 by computer programmer Col Needham. As of September 2016, IMDb has approximately 3.9 million titles (including episodes) and 7.4 million personalities in its database, as well as 67 million registered users. [*From Wikipedia*]\n",
    "\n",
    "\n",
    "### 1.2 Data Preprocessing\n",
    "In order to collect the all the information from the IMDb website. We make use of the [imdbpie](https://github.com/richardasaurus/imdb-pie) module. And we save the results into two tables in sqlite3. Due to the limitation of time, we only randomly crawl about 1% of all the movies in IMDb. Code for data collection can be found at [Data Collection Code]( https://github.com/JinyiLu/15688-Team/blob/master/doc/DataCollection.md). Data can be found at [Data]()\n",
    "\n",
    "We store the data in two sqlite3 tables: **movie** and **review**.\n",
    "\n",
    "**Movie** contains all the information about movies. Its schema is:\n",
    "\n",
    "| Column Name  |  Type | Comment |\n",
    "|---|---|---|\n",
    "| imdb_id  | TEXT  | primary key  |\n",
    "| title  | TEXT  | title of the movie  |\n",
    "| type  | TEXT  | type of the movie  |\n",
    "| year | INTEGER | movie release year |\n",
    "| tagline | TEXT | |\n",
    "| plots | TEXT | |\n",
    "| plot_outline | TEXT | |\n",
    "| rating | INTEGER | |\n",
    "| genres | TEXT | |\n",
    "| votes | INTEGER | number of user vote the movies |\n",
    "| runtime | INTEGER | in seconds |\n",
    "| poster_url | TEXT | |\n",
    "| cover_url | TEXT | |\n",
    "| release_date | TEXT | |\n",
    "| certification | TEXT | |\n",
    "| trailer_image_urls | TEXT | |\n",
    "| directors_sumary | TEXT | |\n",
    "| creators | TEXT | |\n",
    "| cast_summary | TEXT | |\n",
    "| writers_summary | TEXT | |\n",
    "| credits | TEXT | |\n",
    "| trailers | TEXT | ||\n",
    "\n",
    "\n",
    "**Review** contains all the information about reviews. Its schema is:\n",
    "\n",
    "| Column Name  |  Type | Comment |\n",
    "|---|---|---|\n",
    "|imdb_id | TEXT | |\n",
    "|username | TEXT | |\n",
    "|content | TEXT | |\n",
    "|postdate| TEXT | |\n",
    "|rating | INTEGER | user rating 1-10 |\n",
    "|summary | TEXT | review summary |\n",
    "|status | TEXT | |\n",
    "|user_location|TEXT| |\n",
    "|user_score| INTEGER | |\n",
    "|user_score_count | INTEGER | ||\n",
    "\n",
    "Following are some samples:"
   ]
  },
  {
   "cell_type": "code",
   "execution_count": 91,
   "metadata": {
    "collapsed": false
   },
   "outputs": [],
   "source": [
    "import sqlite3\n",
    "import pandas as pd\n",
    "import numpy as np\n",
    "import matplotlib\n",
    "import matplotlib.pyplot as plt\n",
    "import ast\n",
    "\n",
    "%matplotlib inline\n",
    "# plt.style.use('ggplot')\n",
    "matplotlib.rcParams['figure.figsize'] = (10.0, 5.0) # you should adjust this to fit your screen"
   ]
  },
  {
   "cell_type": "code",
   "execution_count": 2,
   "metadata": {
    "collapsed": false,
    "scrolled": false
   },
   "outputs": [
    {
     "data": {
      "text/html": [
       "<div>\n",
       "<table border=\"1\" class=\"dataframe\">\n",
       "  <thead>\n",
       "    <tr style=\"text-align: right;\">\n",
       "      <th></th>\n",
       "      <th>imdb_id</th>\n",
       "      <th>title</th>\n",
       "      <th>type</th>\n",
       "      <th>year</th>\n",
       "      <th>tagline</th>\n",
       "      <th>plots</th>\n",
       "      <th>plot_outline</th>\n",
       "      <th>rating</th>\n",
       "      <th>genres</th>\n",
       "      <th>votes</th>\n",
       "      <th>...</th>\n",
       "      <th>cover_url</th>\n",
       "      <th>release_date</th>\n",
       "      <th>certification</th>\n",
       "      <th>trailer_image_urls</th>\n",
       "      <th>directors_summary</th>\n",
       "      <th>creators</th>\n",
       "      <th>cast_summary</th>\n",
       "      <th>writers_summary</th>\n",
       "      <th>credits</th>\n",
       "      <th>trailers</th>\n",
       "    </tr>\n",
       "  </thead>\n",
       "  <tbody>\n",
       "    <tr>\n",
       "      <th>0</th>\n",
       "      <td>tt1756420</td>\n",
       "      <td>Bez vini vinovatiye</td>\n",
       "      <td>feature</td>\n",
       "      <td>2008</td>\n",
       "      <td>None</td>\n",
       "      <td>[]</td>\n",
       "      <td>None</td>\n",
       "      <td>5.1</td>\n",
       "      <td>[u'Drama']</td>\n",
       "      <td>18</td>\n",
       "      <td>...</td>\n",
       "      <td>None</td>\n",
       "      <td>None</td>\n",
       "      <td>None</td>\n",
       "      <td>[]</td>\n",
       "      <td>[&lt;Person: u'Gleb Panfilov' (u'nm0659368')&gt;]</td>\n",
       "      <td>[]</td>\n",
       "      <td>[&lt;Person: u'Inna Churikova' (u'nm0161500')&gt;, &lt;...</td>\n",
       "      <td>[]</td>\n",
       "      <td>[&lt;Person: u'Gleb Panfilov' (u'nm0659368')&gt;, &lt;P...</td>\n",
       "      <td>[]</td>\n",
       "    </tr>\n",
       "    <tr>\n",
       "      <th>1</th>\n",
       "      <td>tt0241250</td>\n",
       "      <td>The Blind Date</td>\n",
       "      <td>feature</td>\n",
       "      <td>2000</td>\n",
       "      <td>None</td>\n",
       "      <td>[u\"Lucy Kennedy, a one time police detective w...</td>\n",
       "      <td>Lucy Kennedy, a one time police detective whos...</td>\n",
       "      <td>6.2</td>\n",
       "      <td>[u'Thriller']</td>\n",
       "      <td>39</td>\n",
       "      <td>...</td>\n",
       "      <td>None</td>\n",
       "      <td>None</td>\n",
       "      <td>15</td>\n",
       "      <td>[]</td>\n",
       "      <td>[&lt;Person: u'Nigel Douglas' (u'nm0235196')&gt;]</td>\n",
       "      <td>[]</td>\n",
       "      <td>[&lt;Person: u'Zara Turner' (u'nm0877947')&gt;, &lt;Per...</td>\n",
       "      <td>[&lt;Person: u'Simon Booker' (u'nm0095405')&gt;, &lt;Pe...</td>\n",
       "      <td>[&lt;Person: u'Nigel Douglas' (u'nm0235196')&gt;, &lt;P...</td>\n",
       "      <td>[]</td>\n",
       "    </tr>\n",
       "    <tr>\n",
       "      <th>2</th>\n",
       "      <td>tt0106806</td>\n",
       "      <td>Emmanuelle's Love</td>\n",
       "      <td>feature</td>\n",
       "      <td>1993</td>\n",
       "      <td>The Legend is back and the adventure begins!</td>\n",
       "      <td>[u\"Emmanuelle withdraws into a temple in Tibet...</td>\n",
       "      <td>Emmanuelle withdraws into a temple in Tibet, w...</td>\n",
       "      <td>4.6</td>\n",
       "      <td>[u'Drama', u'Romance']</td>\n",
       "      <td>152</td>\n",
       "      <td>...</td>\n",
       "      <td>https://images-na.ssl-images-amazon.com/images...</td>\n",
       "      <td>1993-04-04</td>\n",
       "      <td>18</td>\n",
       "      <td>[]</td>\n",
       "      <td>[&lt;Person: u'Francis Leroi' (u'nm0163095')&gt;]</td>\n",
       "      <td>[]</td>\n",
       "      <td>[&lt;Person: u'Marcela Walerstein' (u'nm0907380')...</td>\n",
       "      <td>[&lt;Person: u'Emmanuelle Arsan' (u'nm0037491')&gt;,...</td>\n",
       "      <td>[&lt;Person: u'Francis Leroi' (u'nm0163095')&gt;, &lt;P...</td>\n",
       "      <td>[]</td>\n",
       "    </tr>\n",
       "    <tr>\n",
       "      <th>3</th>\n",
       "      <td>tt2635824</td>\n",
       "      <td>We Ride: The Story of Snowboarding</td>\n",
       "      <td>documentary</td>\n",
       "      <td>2013</td>\n",
       "      <td>The story of snowboarding told by the people w...</td>\n",
       "      <td>[u\"Grain Media and Burn Energy Drink tell the ...</td>\n",
       "      <td>Grain Media and Burn Energy Drink tell the sto...</td>\n",
       "      <td>7.8</td>\n",
       "      <td>[u'Documentary', u'Adventure', u'History', u'S...</td>\n",
       "      <td>81</td>\n",
       "      <td>...</td>\n",
       "      <td>https://images-na.ssl-images-amazon.com/images...</td>\n",
       "      <td>2013-01-31</td>\n",
       "      <td>None</td>\n",
       "      <td>[]</td>\n",
       "      <td>[&lt;Person: u'Jon Drever' (u'nm2270358')&gt;, &lt;Pers...</td>\n",
       "      <td>[]</td>\n",
       "      <td>[&lt;Person: u'Danny Davis' (u'nm2289497')&gt;, &lt;Per...</td>\n",
       "      <td>[&lt;Person: u'Jon Drever' (u'nm2270358')&gt;]</td>\n",
       "      <td>[&lt;Person: u'Jon Drever' (u'nm2270358')&gt;, &lt;Pers...</td>\n",
       "      <td>[]</td>\n",
       "    </tr>\n",
       "    <tr>\n",
       "      <th>4</th>\n",
       "      <td>tt0426589</td>\n",
       "      <td>Succubus</td>\n",
       "      <td>feature</td>\n",
       "      <td>1987</td>\n",
       "      <td>Sex Slaves To The Devil!</td>\n",
       "      <td>[u'The Von Romburg castle has been cursed ever...</td>\n",
       "      <td>The Von Romburg castle has been cursed ever si...</td>\n",
       "      <td>6.6</td>\n",
       "      <td>[u'Horror']</td>\n",
       "      <td>7</td>\n",
       "      <td>...</td>\n",
       "      <td>None</td>\n",
       "      <td>1987</td>\n",
       "      <td>None</td>\n",
       "      <td>[]</td>\n",
       "      <td>[&lt;Person: u'Patrick Dromgoole' (u'nm0238245')&gt;]</td>\n",
       "      <td>[]</td>\n",
       "      <td>[&lt;Person: u'Barry Foster' (u'nm0287687')&gt;, &lt;Pe...</td>\n",
       "      <td>[&lt;Person: u'Bob Baker' (u'nm0048276')&gt;, &lt;Perso...</td>\n",
       "      <td>[&lt;Person: u'Patrick Dromgoole' (u'nm0238245')&gt;...</td>\n",
       "      <td>[]</td>\n",
       "    </tr>\n",
       "  </tbody>\n",
       "</table>\n",
       "<p>5 rows × 22 columns</p>\n",
       "</div>"
      ],
      "text/plain": [
       "     imdb_id                               title         type  year  \\\n",
       "0  tt1756420                 Bez vini vinovatiye      feature  2008   \n",
       "1  tt0241250                      The Blind Date      feature  2000   \n",
       "2  tt0106806                   Emmanuelle's Love      feature  1993   \n",
       "3  tt2635824  We Ride: The Story of Snowboarding  documentary  2013   \n",
       "4  tt0426589                            Succubus      feature  1987   \n",
       "\n",
       "                                             tagline  \\\n",
       "0                                               None   \n",
       "1                                               None   \n",
       "2       The Legend is back and the adventure begins!   \n",
       "3  The story of snowboarding told by the people w...   \n",
       "4                           Sex Slaves To The Devil!   \n",
       "\n",
       "                                               plots  \\\n",
       "0                                                 []   \n",
       "1  [u\"Lucy Kennedy, a one time police detective w...   \n",
       "2  [u\"Emmanuelle withdraws into a temple in Tibet...   \n",
       "3  [u\"Grain Media and Burn Energy Drink tell the ...   \n",
       "4  [u'The Von Romburg castle has been cursed ever...   \n",
       "\n",
       "                                        plot_outline  rating  \\\n",
       "0                                               None     5.1   \n",
       "1  Lucy Kennedy, a one time police detective whos...     6.2   \n",
       "2  Emmanuelle withdraws into a temple in Tibet, w...     4.6   \n",
       "3  Grain Media and Burn Energy Drink tell the sto...     7.8   \n",
       "4  The Von Romburg castle has been cursed ever si...     6.6   \n",
       "\n",
       "                                              genres  votes   ...     \\\n",
       "0                                         [u'Drama']     18   ...      \n",
       "1                                      [u'Thriller']     39   ...      \n",
       "2                             [u'Drama', u'Romance']    152   ...      \n",
       "3  [u'Documentary', u'Adventure', u'History', u'S...     81   ...      \n",
       "4                                        [u'Horror']      7   ...      \n",
       "\n",
       "                                           cover_url release_date  \\\n",
       "0                                               None         None   \n",
       "1                                               None         None   \n",
       "2  https://images-na.ssl-images-amazon.com/images...   1993-04-04   \n",
       "3  https://images-na.ssl-images-amazon.com/images...   2013-01-31   \n",
       "4                                               None         1987   \n",
       "\n",
       "  certification trailer_image_urls  \\\n",
       "0          None                 []   \n",
       "1            15                 []   \n",
       "2            18                 []   \n",
       "3          None                 []   \n",
       "4          None                 []   \n",
       "\n",
       "                                   directors_summary creators  \\\n",
       "0        [<Person: u'Gleb Panfilov' (u'nm0659368')>]       []   \n",
       "1        [<Person: u'Nigel Douglas' (u'nm0235196')>]       []   \n",
       "2        [<Person: u'Francis Leroi' (u'nm0163095')>]       []   \n",
       "3  [<Person: u'Jon Drever' (u'nm2270358')>, <Pers...       []   \n",
       "4    [<Person: u'Patrick Dromgoole' (u'nm0238245')>]       []   \n",
       "\n",
       "                                        cast_summary  \\\n",
       "0  [<Person: u'Inna Churikova' (u'nm0161500')>, <...   \n",
       "1  [<Person: u'Zara Turner' (u'nm0877947')>, <Per...   \n",
       "2  [<Person: u'Marcela Walerstein' (u'nm0907380')...   \n",
       "3  [<Person: u'Danny Davis' (u'nm2289497')>, <Per...   \n",
       "4  [<Person: u'Barry Foster' (u'nm0287687')>, <Pe...   \n",
       "\n",
       "                                     writers_summary  \\\n",
       "0                                                 []   \n",
       "1  [<Person: u'Simon Booker' (u'nm0095405')>, <Pe...   \n",
       "2  [<Person: u'Emmanuelle Arsan' (u'nm0037491')>,...   \n",
       "3           [<Person: u'Jon Drever' (u'nm2270358')>]   \n",
       "4  [<Person: u'Bob Baker' (u'nm0048276')>, <Perso...   \n",
       "\n",
       "                                             credits trailers  \n",
       "0  [<Person: u'Gleb Panfilov' (u'nm0659368')>, <P...       []  \n",
       "1  [<Person: u'Nigel Douglas' (u'nm0235196')>, <P...       []  \n",
       "2  [<Person: u'Francis Leroi' (u'nm0163095')>, <P...       []  \n",
       "3  [<Person: u'Jon Drever' (u'nm2270358')>, <Pers...       []  \n",
       "4  [<Person: u'Patrick Dromgoole' (u'nm0238245')>...       []  \n",
       "\n",
       "[5 rows x 22 columns]"
      ]
     },
     "execution_count": 2,
     "metadata": {},
     "output_type": "execute_result"
    }
   ],
   "source": [
    "DB_NAME = '../data/imdb_final.db'\n",
    "conn = sqlite3.connect(DB_NAME)\n",
    "\n",
    "df = pd.read_sql_query(\"SELECT * FROM movie\", conn)\n",
    "df.head()"
   ]
  },
  {
   "cell_type": "code",
   "execution_count": 3,
   "metadata": {
    "collapsed": false,
    "scrolled": false
   },
   "outputs": [
    {
     "data": {
      "text/html": [
       "<div>\n",
       "<table border=\"1\" class=\"dataframe\">\n",
       "  <thead>\n",
       "    <tr style=\"text-align: right;\">\n",
       "      <th></th>\n",
       "      <th>imdb_id</th>\n",
       "      <th>username</th>\n",
       "      <th>content</th>\n",
       "      <th>postdate</th>\n",
       "      <th>rating</th>\n",
       "      <th>summary</th>\n",
       "      <th>status</th>\n",
       "      <th>user_location</th>\n",
       "      <th>user_score</th>\n",
       "      <th>user_score_count</th>\n",
       "    </tr>\n",
       "  </thead>\n",
       "  <tbody>\n",
       "    <tr>\n",
       "      <th>0</th>\n",
       "      <td>tt2635824</td>\n",
       "      <td>(borkoboardo)</td>\n",
       "      <td>It's a difficult one - the history of snowboar...</td>\n",
       "      <td>2013-02-26</td>\n",
       "      <td>4.0</td>\n",
       "      <td>Fans will love it!</td>\n",
       "      <td>G</td>\n",
       "      <td>Livigno</td>\n",
       "      <td>6.0</td>\n",
       "      <td>9.0</td>\n",
       "    </tr>\n",
       "    <tr>\n",
       "      <th>1</th>\n",
       "      <td>tt2635824</td>\n",
       "      <td>surfs_up1976</td>\n",
       "      <td>Another attempt of capturing the history of sn...</td>\n",
       "      <td>2013-02-25</td>\n",
       "      <td>3.0</td>\n",
       "      <td>Oh boy, what a mess...</td>\n",
       "      <td>S</td>\n",
       "      <td>Sweden</td>\n",
       "      <td>3.0</td>\n",
       "      <td>4.0</td>\n",
       "    </tr>\n",
       "    <tr>\n",
       "      <th>2</th>\n",
       "      <td>tt0079677</td>\n",
       "      <td>lazarillo</td>\n",
       "      <td>This is one of those films that kind of fall i...</td>\n",
       "      <td>2008-11-24</td>\n",
       "      <td>NaN</td>\n",
       "      <td>Not good but interesting--and certainly offbea...</td>\n",
       "      <td>G</td>\n",
       "      <td>Denver, Colorado and Santiago, Chile</td>\n",
       "      <td>5.0</td>\n",
       "      <td>7.0</td>\n",
       "    </tr>\n",
       "    <tr>\n",
       "      <th>3</th>\n",
       "      <td>tt0079677</td>\n",
       "      <td>Wizard-8</td>\n",
       "      <td>Today, the all-but-forgotten movie \"(Friday Th...</td>\n",
       "      <td>2012-07-23</td>\n",
       "      <td>NaN</td>\n",
       "      <td>Great effort is obvious, but it doesn't work i...</td>\n",
       "      <td>G</td>\n",
       "      <td>Victoria, BC</td>\n",
       "      <td>2.0</td>\n",
       "      <td>3.0</td>\n",
       "    </tr>\n",
       "    <tr>\n",
       "      <th>4</th>\n",
       "      <td>tt0079677</td>\n",
       "      <td>HumanoidOfFlesh</td>\n",
       "      <td>After tragic death of his parents-the woman ac...</td>\n",
       "      <td>2010-12-12</td>\n",
       "      <td>8.0</td>\n",
       "      <td>Young boy's tormented psyche.</td>\n",
       "      <td>G</td>\n",
       "      <td>Chyby, Poland</td>\n",
       "      <td>4.0</td>\n",
       "      <td>7.0</td>\n",
       "    </tr>\n",
       "  </tbody>\n",
       "</table>\n",
       "</div>"
      ],
      "text/plain": [
       "     imdb_id         username  \\\n",
       "0  tt2635824    (borkoboardo)   \n",
       "1  tt2635824     surfs_up1976   \n",
       "2  tt0079677        lazarillo   \n",
       "3  tt0079677         Wizard-8   \n",
       "4  tt0079677  HumanoidOfFlesh   \n",
       "\n",
       "                                             content    postdate  rating  \\\n",
       "0  It's a difficult one - the history of snowboar...  2013-02-26     4.0   \n",
       "1  Another attempt of capturing the history of sn...  2013-02-25     3.0   \n",
       "2  This is one of those films that kind of fall i...  2008-11-24     NaN   \n",
       "3  Today, the all-but-forgotten movie \"(Friday Th...  2012-07-23     NaN   \n",
       "4  After tragic death of his parents-the woman ac...  2010-12-12     8.0   \n",
       "\n",
       "                                             summary status  \\\n",
       "0                                 Fans will love it!      G   \n",
       "1                             Oh boy, what a mess...      S   \n",
       "2  Not good but interesting--and certainly offbea...      G   \n",
       "3  Great effort is obvious, but it doesn't work i...      G   \n",
       "4                      Young boy's tormented psyche.      G   \n",
       "\n",
       "                          user_location  user_score  user_score_count  \n",
       "0                               Livigno         6.0               9.0  \n",
       "1                                Sweden         3.0               4.0  \n",
       "2  Denver, Colorado and Santiago, Chile         5.0               7.0  \n",
       "3                          Victoria, BC         2.0               3.0  \n",
       "4                         Chyby, Poland         4.0               7.0  "
      ]
     },
     "execution_count": 3,
     "metadata": {},
     "output_type": "execute_result"
    }
   ],
   "source": [
    "df = pd.read_sql_query(\"SELECT * FROM review\", conn)\n",
    "df.head()"
   ]
  },
  {
   "cell_type": "markdown",
   "metadata": {},
   "source": [
    "## 2. Data Set Analysis"
   ]
  },
  {
   "cell_type": "markdown",
   "metadata": {},
   "source": [
    "### 2.x User Location\n",
    "\n",
    "Users in IMDb comes from various kinds of countries. It is very interesting to do some analysis to see if there are any location bias in terms of movie preference.\n",
    "\n"
   ]
  },
  {
   "cell_type": "code",
   "execution_count": 30,
   "metadata": {
    "collapsed": true
   },
   "outputs": [],
   "source": [
    "user = pd.read_sql_query(\"SELECT * FROM review\", conn)"
   ]
  },
  {
   "cell_type": "code",
   "execution_count": 49,
   "metadata": {
    "collapsed": false,
    "scrolled": false
   },
   "outputs": [],
   "source": [
    "# group different location into usa\n",
    "usa = ['United States', 'USA', 'Alabama', 'AL', 'Alaska', 'AK', 'Arizona', 'AZ', 'Arkansas',\\\n",
    "      'AR', 'California', 'CA', 'Colorado', 'CO', 'Connecticut', 'CT', 'Delaware', 'DE', \\\n",
    "      'Florida', 'FL', 'Georgia', 'GA', 'Hawaii', 'HI', 'Idaho', 'ID', 'Illinois', 'IL', \\\n",
    "      'Indiana', 'IN', 'Iowa', 'IA', 'Kansas', 'KS', 'Kentucky', 'KY', 'Louisiana', 'LA', \\\n",
    "      'Maine', 'ME', 'Maryland', 'MD', 'Massachusetts', 'MA', 'Michigan', 'MI', 'Minnesota', \\\n",
    "      'MN', 'Mississippi', 'MS', 'Missouri', 'MO', 'Montana', 'MT', 'Nebraska', 'NE', \\\n",
    "      'Nevada', 'NV', 'New Hampshire', 'NH', 'New Jersey', 'NJ', 'New Mexico', 'NM', 'New York', \\\n",
    "      'NY', 'North Carolina', 'NC', 'North Dakota', 'ND', 'Ohio', 'OH', 'Oklahoma', 'OK', \\\n",
    "      'Oregon', 'OR', 'Pennsylvania', 'PA', 'Rhode Island', 'RI', 'South Carolina', 'SC', \\\n",
    "      'South Dakota', 'SD', 'Tennessee', 'TN', 'Texas', 'TX', 'Utah', 'UT', 'Vermont', 'VT',\\\n",
    "      'Virginia', 'VA', 'Washington', 'WA', 'West Virginia', 'WV', 'Wisconsin', 'WI', \\\n",
    "      'Wyoming', 'WY', 'US', 'Los Angeles', 'Chicago']\n",
    "\n",
    "reg = []\n",
    "for u in usa:\n",
    "    reg.append('.*'+u+'.*')\n",
    "\n",
    "user['user_location'] = user['user_location'].replace(to_replace=reg, value='United States', regex=True)\n",
    "\n",
    "mask = ['UK', '.*London.*', 'England', '.*United Kingdom.*']\n",
    "user['user_location'] = user['user_location'].replace(to_replace=mask, value='United Kingdom', regex=True)\n",
    "\n",
    "mask = ['.*Australia.*']\n",
    "user['user_location'] = user['user_location'].replace(to_replace=mask, value='Australia', regex=True)\n",
    "\n",
    "mask = ['.*Canada.*']\n",
    "user['user_location'] = user['user_location'].replace(to_replace=mask, value='Canada', regex=True)"
   ]
  },
  {
   "cell_type": "markdown",
   "metadata": {},
   "source": [
    "Firstly, we try to analysis the user location distribution in our dataset. So we plot the distribution of number of users in each country in the log scale."
   ]
  },
  {
   "cell_type": "code",
   "execution_count": 78,
   "metadata": {
    "collapsed": false
   },
   "outputs": [
    {
     "name": "stdout",
     "output_type": "stream",
     "text": [
      "(21637, 10)\n"
     ]
    },
    {
     "data": {
      "image/png": "[encoded data removed]",
      "text/plain": [
       "<matplotlib.figure.Figure at 0x12878c450>"
      ]
     },
     "metadata": {},
     "output_type": "display_data"
    }
   ],
   "source": [
    "# drop duplicate users\n",
    "user_nodup = user.drop_duplicates('username')\n",
    "print user_nodup.shape\n",
    "\n",
    "loc_freq = user_nodup['user_location'].value_counts()\n",
    "loc_freq = loc_freq[loc_freq>30]\n",
    "\n",
    "plt.plot(range(len(loc_freq)), loc_freq.values)\n",
    "plt.yscale('log')\n",
    "plt.xticks(range(len(loc_freq)), loc_freq.index, rotation='vertical')\n",
    "\n",
    "plt.show()"
   ]
  },
  {
   "cell_type": "markdown",
   "metadata": {},
   "source": [
    "As we can see from the figure, most of the users in IMDb are coming from United States, United Kingdom, Canada and Australia. How about the average rating for each country?"
   ]
  },
  {
   "cell_type": "code",
   "execution_count": 60,
   "metadata": {
    "collapsed": false
   },
   "outputs": [
    {
     "data": {
      "image/png": "[encoded data removed]",
      "text/plain": [
       "<matplotlib.figure.Figure at 0x12c512b10>"
      ]
     },
     "metadata": {},
     "output_type": "display_data"
    }
   ],
   "source": [
    "user_rating = user.dropna(axis=0, subset=['rating'])\n",
    "# only consider top countries\n",
    "user_rating = user_rating[user_rating['user_location'].isin(loc_freq.index)]\n",
    "loc_rating = user_rating.groupby('user_location')['rating'].mean()\n",
    "loc_rating = loc_rating.sort_values(ascending=False)\n",
    "\n",
    "plt.plot(range(len(loc_rating)), loc_rating.values)\n",
    "plt.xticks(range(len(loc_rating)), loc_rating.index, rotation='vertical')\n",
    "\n",
    "plt.show()"
   ]
  },
  {
   "cell_type": "markdown",
   "metadata": {},
   "source": [
    "It's very interesting users in some popular countries tend to give a low rating compare with other countries. For example, the numbers of users in Germany and Sweden are almost the same. But in generally German tend to give a lower rate to the movies than Swedish so they are more critical when watching movies."
   ]
  },
  {
   "cell_type": "markdown",
   "metadata": {},
   "source": [
    "### 2.x Movie Release Date\n",
    "Besides the geospatial dimensionality, it's also interesting to analysis something related to time. Is the number of relased movies is keep growing?"
   ]
  },
  {
   "cell_type": "code",
   "execution_count": 61,
   "metadata": {
    "collapsed": true
   },
   "outputs": [],
   "source": [
    "movie = pd.read_sql_query(\"SELECT * FROM movie\", conn)"
   ]
  },
  {
   "cell_type": "code",
   "execution_count": 79,
   "metadata": {
    "collapsed": false
   },
   "outputs": [
    {
     "data": {
      "image/png": "[encoded data removed]",
      "text/plain": [
       "<matplotlib.figure.Figure at 0x12ea24050>"
      ]
     },
     "metadata": {},
     "output_type": "display_data"
    }
   ],
   "source": [
    "# only consider feature type movie\n",
    "movie_onlyfeature = movie[movie['type'] == 'feature']\n",
    "year_freq = movie_onlyfeature['year'].value_counts()\n",
    "year_freq = year_freq.sort_index()\n",
    "\n",
    "plt.plot(range(len(year_freq)), year_freq.values)\n",
    "\n",
    "labels = []\n",
    "idx = []\n",
    "for i in range(0, len(year_freq), 4):\n",
    "    idx.append(i)\n",
    "    labels.append(year_freq.index[i])\n",
    "\n",
    "plt.xticks(idx, labels, rotation='vertical')\n",
    "\n",
    "plt.show()"
   ]
  },
  {
   "cell_type": "markdown",
   "metadata": {},
   "source": [
    "Although IMDb was launched in 1990, it still contains many information about old movies. It's very clear that general trend of the number of movies that are released in each year are increasing. And recently, the velocity of increase is very fast.\n",
    "\n",
    "How about the length of the movie?"
   ]
  },
  {
   "cell_type": "code",
   "execution_count": 89,
   "metadata": {
    "collapsed": false
   },
   "outputs": [
    {
     "data": {
      "image/png": "[encoded data removed]",
      "text/plain": [
       "<matplotlib.figure.Figure at 0x12e9a67d0>"
      ]
     },
     "metadata": {},
     "output_type": "display_data"
    }
   ],
   "source": [
    "movie_runtime = movie_onlyfeature.dropna(axis=0, subset=['runtime', 'year'])\n",
    "\n",
    "year_runtime = movie_runtime.groupby('year')['runtime'].mean()\n",
    "year_runtime = year_runtime.sort_index()\n",
    "\n",
    "plt.plot(range(len(year_runtime)), year_runtime.values)\n",
    "\n",
    "labels = []\n",
    "idx = []\n",
    "for i in range(0, len(year_runtime), 4):\n",
    "    idx.append(i)\n",
    "    labels.append(year_runtime.index[i])\n",
    "    \n",
    "plt.xticks(idx, labels, rotation='vertical')\n",
    "\n",
    "plt.show()"
   ]
  },
  {
   "cell_type": "markdown",
   "metadata": {},
   "source": [
    "The result shows that although we generally tend to produce more movies. The length of the movie doesn't change a lot."
   ]
  },
  {
   "cell_type": "markdown",
   "metadata": {},
   "source": [
    "### 2.x Genre Information\n"
   ]
  },
  {
   "cell_type": "code",
   "execution_count": 105,
   "metadata": {
    "collapsed": false
   },
   "outputs": [
    {
     "name": "stdout",
     "output_type": "stream",
     "text": [
      "Empty DataFrame\n",
      "Columns: [avg_rating, cnt, label]\n",
      "Index: []\n"
     ]
    }
   ],
   "source": [
    "# only consider the movies with large number of votes\n",
    "movie_rating = movie_onlyfeature[movie_onlyfeature['votes'] > 30]\n",
    "\n",
    "genres = {}\n",
    "for row in movie_rating.iterrows():\n",
    "    gs = ast.literal_eval(row[1]['genres'])\n",
    "    if gs is None:\n",
    "        continue\n",
    "    for g in gs:\n",
    "        if g in genres:\n",
    "            genres[g]['cnt'] += 1\n",
    "            genres[g]['rating'] += row[1]['rating']\n",
    "        else:\n",
    "            genres[g] = {'cnt':1, 'rating':row[1]['rating'], 'label':g}\n",
    "\n",
    "\n"
   ]
  },
  {
   "cell_type": "markdown",
   "metadata": {
    "collapsed": true
   },
   "source": [
    "\n",
    "## Analysis\n",
    "* General statistics\n",
    "* Rating sparsity (compare with MovieLen)\n",
    "* Rating cnt / review cnt\n",
    "* Rating vs rating cnt\n",
    "* Rating vs user cnt\n",
    "* (Review/Movie) rating vs movie cnt\n",
    "* ~~Location vs user cnt~~\n",
    "* Location vs movie cnt\n",
    "* TOP\n",
    "    * TOP rating/review cnt movie\n",
    "    * TOP movie/review rating movie (vote threshold)\n",
    "        * Movie title, trailers, runtime, credits, cover\n",
    "    * TOP review cnt user\n",
    "* ~~Post date vs movie cnt~~\n",
    "* ~~Post date vs avg runtime~~\n",
    "* Genre vs movie cnt\n",
    "* Genre vs vote, movie rating\n",
    "* Genre vs avg runtime\n",
    "\n",
    "* Agree and disagree\n",
    "\n",
    "## Recommendation System\n",
    "* Sparsity -> traidional methods may not work\n",
    "* Potentional solutions\n",
    "\n",
    "## Reference\n",
    "* https://en.wikipedia.org/wiki/IMDb\n",
    "* https://github.com/richardasaurus/imdb-pie\n",
    "* https://github.com/JinyiLu/15688-Team"
   ]
  },
  {
   "cell_type": "code",
   "execution_count": null,
   "metadata": {
    "collapsed": true
   },
   "outputs": [],
   "source": []
  }
 ],
 "metadata": {
  "kernelspec": {
   "display_name": "Python 2",
   "language": "python",
   "name": "python2"
  },
  "language_info": {
   "codemirror_mode": {
    "name": "ipython",
    "version": 2
   },
   "file_extension": ".py",
   "mimetype": "text/x-python",
   "name": "python",
   "nbconvert_exporter": "python",
   "pygments_lexer": "ipython2",
   "version": "2.7.12"
  }
 },
 "nbformat": 4,
 "nbformat_minor": 0
}
